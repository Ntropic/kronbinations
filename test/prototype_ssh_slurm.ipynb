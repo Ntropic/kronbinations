{
 "cells": [
  {
   "cell_type": "code",
   "execution_count": 1,
   "metadata": {},
   "outputs": [],
   "source": [
    "# import package for inputting passwords in jupyter notebook\n",
    "import getpass\n",
    "\n",
    "password = getpass.getpass(prompt='Please provide your password:')"
   ]
  },
  {
   "cell_type": "code",
   "execution_count": 1,
   "metadata": {},
   "outputs": [
    {
     "ename": "NameError",
     "evalue": "name 'password' is not defined",
     "output_type": "error",
     "traceback": [
      "\u001b[1;31m---------------------------------------------------------------------------\u001b[0m",
      "\u001b[1;31mNameError\u001b[0m                                 Traceback (most recent call last)",
      "Cell \u001b[1;32mIn[1], line 2\u001b[0m\n\u001b[0;32m      1\u001b[0m \u001b[39mimport\u001b[39;00m \u001b[39mmaskpass\u001b[39;00m\n\u001b[1;32m----> 2\u001b[0m \u001b[39mif\u001b[39;00m password \u001b[39mis\u001b[39;00m \u001b[39mNone\u001b[39;00m:\n\u001b[0;32m      3\u001b[0m     password \u001b[39m=\u001b[39m maskpass\u001b[39m.\u001b[39madvpass()\n",
      "\u001b[1;31mNameError\u001b[0m: name 'password' is not defined"
     ]
    }
   ],
   "source": [
    "import maskpass\n",
    "import paramiko \n",
    "import base64\n",
    "\n",
    "class ssh_login:\n",
    "    def __init__(server, user, password=None):\n",
    "        if password is None:\n",
    "            password = maskpass.advpass()\n",
    "        self.password_encoded = base64.b64encode(\"password\".encode(\"utf-8\"))\n",
    "        self.user = user \n",
    "        self.server = server\n",
    "    \n",
    "    def login\n",
    "    \n",
    "    \n",
    "    \n",
    "def pgi8_login():\n",
    "    return ssh_login('pgi8cluster.iff.kfa-juelich.de', 'schilling')\n",
    "\n",
    "pgi8_login()"
   ]
  },
  {
   "cell_type": "code",
   "execution_count": null,
   "metadata": {},
   "outputs": [],
   "source": [
    "# do ssh login\n",
    "# load ssh load file?"
   ]
  },
  {
   "cell_type": "code",
   "execution_count": null,
   "metadata": {},
   "outputs": [],
   "source": [
    "# do slurm"
   ]
  },
  {
   "cell_type": "code",
   "execution_count": null,
   "metadata": {},
   "outputs": [],
   "source": []
  },
  {
   "cell_type": "code",
   "execution_count": null,
   "metadata": {},
   "outputs": [],
   "source": []
  },
  {
   "cell_type": "code",
   "execution_count": null,
   "metadata": {},
   "outputs": [],
   "source": []
  },
  {
   "cell_type": "code",
   "execution_count": null,
   "metadata": {
    "collapsed": false
   },
   "outputs": [],
   "source": []
  },
  {
   "cell_type": "code",
   "execution_count": null,
   "metadata": {},
   "outputs": [],
   "source": []
  }
 ],
 "metadata": {
  "kernelspec": {
   "display_name": "mypy",
   "language": "python",
   "name": "python3"
  },
  "language_info": {
   "codemirror_mode": {
    "name": "ipython",
    "version": 3
   },
   "file_extension": ".py",
   "mimetype": "text/x-python",
   "name": "python",
   "nbconvert_exporter": "python",
   "pygments_lexer": "ipython3",
   "version": "3.9.15"
  },
  "vscode": {
   "interpreter": {
    "hash": "fcea4ade978be79c43ac22e97867dd8ddb713824b66d08d4e9716212bce9ca29"
   }
  }
 },
 "nbformat": 4,
 "nbformat_minor": 0
}
